{
 "cells": [
  {
   "cell_type": "markdown",
   "metadata": {},
   "source": [
    "# Introdução ao Python - Ana Beatriz Macedo<img src=\"https://octocat-generator-assets.githubusercontent.com/my-octocat-1626096942740.png\" width=\"324\" height=\"324\" align=\"right\">\n",
    "## Link para download: https://github.com/AnabeatrizMacedo241/Python-101\n",
    "## Github: https://github.com/AnabeatrizMacedo241\n",
    "## Linkedin: www.linkedin.com/in/anabeatriz-macedo\n",
    "\n",
    "<img src=\"https://cdn.jsdelivr.net/gh/devicons/devicon/icons/python/python-original.svg\" alt=\"rails\" width='150' height='150' style='max-width: 100%;'></img>\n",
    "![yellow-divider](https://user-images.githubusercontent.com/7065401/52071924-c003ad80-2562-11e9-8297-1c6595f8a7ff.png)"
   ]
  },
  {
   "cell_type": "markdown",
   "metadata": {},
   "source": [
    "## Nessa sétima parte veremos:\n",
    "- List Comprehension\n",
    "- Set Comprehension"
   ]
  },
  {
   "cell_type": "markdown",
   "metadata": {},
   "source": [
    "**List comprehension** é recomendado para reduzir a quantidade de linhas de um código e, ainda, fazê-lo funcionar da mesma forma que antes para criar listas.\n",
    "\n",
    "É sempre acompanhada de `[]`, justamente por ser uma lista! Aqui vai uma breve 'fórmula' de List comprehension:\n",
    "\n",
    "`[expressão for item in lista if condição == True]`"
   ]
  },
  {
   "cell_type": "code",
   "execution_count": 34,
   "metadata": {},
   "outputs": [
    {
     "name": "stdout",
     "output_type": "stream",
     "text": [
      "0 1 4 9 16 25 36 49 64 81 100 "
     ]
    }
   ],
   "source": [
    "#Primeiramente, vamos ver como podemos mudar um código tradicional para uma List comprehension...\n",
    "for k in range(11):\n",
    "    print(k*k, end=' ')"
   ]
  },
  {
   "cell_type": "code",
   "execution_count": 4,
   "metadata": {},
   "outputs": [
    {
     "data": {
      "text/plain": [
       "[0, 1, 4, 9, 16, 25, 36, 49, 64, 81, 100]"
      ]
     },
     "execution_count": 4,
     "metadata": {},
     "output_type": "execute_result"
    }
   ],
   "source": [
    "#Transformando em List comprehension... Economizamos uma linha!\n",
    "[k*k for k in range(11)]"
   ]
  },
  {
   "cell_type": "code",
   "execution_count": 19,
   "metadata": {},
   "outputs": [
    {
     "name": "stdout",
     "output_type": "stream",
     "text": [
      "['o', 'e', 'i', 'o', 'e', 'e', 'i', 'o']\n",
      "['P', 'y', 't', 'h', 'n', ' ', ' ', 'L', 's', 't', ' ', 'c', 'm', 'p', 'r', 'h', 'n', 's', 'n']\n"
     ]
    }
   ],
   "source": [
    "#Podemos usar com strings também\n",
    "string = 'Python e List comprehension'\n",
    "vogais = [k for k in string if k in 'aeiou']\n",
    "consoantes = [x for x in string if x not in vogais]\n",
    "print(vogais)\n",
    "print(consoantes)"
   ]
  },
  {
   "cell_type": "code",
   "execution_count": 35,
   "metadata": {},
   "outputs": [
    {
     "data": {
      "text/plain": [
       "[1, 24, 'Negativo', 48, 79, 'Negativo', 'Negativo', 60]"
      ]
     },
     "execution_count": 35,
     "metadata": {},
     "output_type": "execute_result"
    }
   ],
   "source": [
    "#Aqui ele checará se o número é positivo. Se não for, substituirá por 'Negativo\n",
    "num = [1,24,-36,48,79,-50,-40,60]\n",
    "positivo = [k if k>0 else 'Negativo' for k in num]\n",
    "positivo"
   ]
  },
  {
   "cell_type": "code",
   "execution_count": 26,
   "metadata": {},
   "outputs": [
    {
     "data": {
      "text/plain": [
       "['Ana', 'pedro', 'GusTavo', 'mAria']"
      ]
     },
     "execution_count": 26,
     "metadata": {},
     "output_type": "execute_result"
    }
   ],
   "source": [
    "#Aqui vamos ver outro exemplo de passar um código tradicional para list comprehension\n",
    "nomes = ['Ana', 'pedro', 'GusTavo', 'mAria']\n",
    "lista = []\n",
    "for k in nomes:\n",
    "    lista.append(k)\n",
    "lista"
   ]
  },
  {
   "cell_type": "code",
   "execution_count": 28,
   "metadata": {},
   "outputs": [
    {
     "data": {
      "text/plain": [
       "['Ana', 'pedro', 'GusTavo', 'mAria']"
      ]
     },
     "execution_count": 28,
     "metadata": {},
     "output_type": "execute_result"
    }
   ],
   "source": [
    "#Em list comprehension...\n",
    "lista2 = [k for k in nomes]\n",
    "lista2"
   ]
  },
  {
   "cell_type": "code",
   "execution_count": 29,
   "metadata": {},
   "outputs": [
    {
     "data": {
      "text/plain": [
       "['ANA', 'PEDRO', 'GUSTAVO', 'MARIA']"
      ]
     },
     "execution_count": 29,
     "metadata": {},
     "output_type": "execute_result"
    }
   ],
   "source": [
    "#Aqui deixamos todos os nomes em maiúsculo.\n",
    "lista3 = [k.upper() for k in nomes]\n",
    "lista3"
   ]
  },
  {
   "cell_type": "code",
   "execution_count": 31,
   "metadata": {},
   "outputs": [
    {
     "name": "stdout",
     "output_type": "stream",
     "text": [
      "['PEDRO', 'GUSTAVO']\n",
      "['ANA', 'GUSTAVO', 'MARIA']\n"
     ]
    }
   ],
   "source": [
    "letra_O = [k for k in lista3 if 'O' in k] #Retornará palvras com a letra 'O'\n",
    "letra_A = [x for x in lista3 if 'A'in x] #Retornará palavras com a letra 'A'\n",
    "print(letra_O)\n",
    "print(letra_A)"
   ]
  },
  {
   "cell_type": "markdown",
   "metadata": {},
   "source": [
    "**Set comprehension** é como uma List comprehension, a diferença é que Set comprehension não retorna outputs duplicados e usam `{}` de dicionários."
   ]
  },
  {
   "cell_type": "code",
   "execution_count": 23,
   "metadata": {},
   "outputs": [
    {
     "name": "stdout",
     "output_type": "stream",
     "text": [
      "{'o', 'i', 'e'}\n"
     ]
    },
    {
     "data": {
      "text/plain": [
       "{' ', 'L', 'P', 'c', 'h', 'm', 'n', 'p', 'r', 's', 't', 'y'}"
      ]
     },
     "execution_count": 23,
     "metadata": {},
     "output_type": "execute_result"
    }
   ],
   "source": [
    "#Vamos reutilizar o exemplo de string acima. Ele retornará as letras, mas dessa vez sem repeti-lás\n",
    "vogais2 = {k for k in string if k in 'aeiou'}\n",
    "print(vogais2)\n",
    "consoantes2 = {x for x in string if x not in vogais2}\n",
    "consoantes2\n",
    "#Você pode ver que foi retorando duas letras 'p'. Isso acontceu, porque ele não soube diferenciar maiúsculo de minúsculo."
   ]
  },
  {
   "cell_type": "code",
   "execution_count": 25,
   "metadata": {},
   "outputs": [
    {
     "data": {
      "text/plain": [
       "{0: 0, 1: 1, 2: 4, 3: 9, 4: 16, 5: 25, 6: 36, 7: 49, 8: 64, 9: 81, 10: 100}"
      ]
     },
     "execution_count": 25,
     "metadata": {},
     "output_type": "execute_result"
    }
   ],
   "source": [
    "#Esse seria um exemplo usando set comprehension ao invés do primeiro exemplo dessa aula. \n",
    "{k: k*k for k in range(11)}"
   ]
  },
  {
   "cell_type": "markdown",
   "metadata": {},
   "source": [
    "### Exercícios:\n",
    "1. Crie uma list ou set comprehension que tenha todos os números de 0 a 100 que são divididos por 2 e 5.\n",
    "2. Crie uma list comprehension  de 0 a 10 que cheque se o número é par ou ímpar e subistitua seus valores por \"Par\" e \"Ímpar\".\n",
    "3. Trasforme o código  com #3 a seguir em uma list comprehension.\n",
    "4. Converta a seguinte list comprehension com #4 para um código tradicional."
   ]
  },
  {
   "cell_type": "code",
   "execution_count": 45,
   "metadata": {},
   "outputs": [
    {
     "name": "stdout",
     "output_type": "stream",
     "text": [
      "['Cowboys', 'Colts', 'Chargers', 'Chiefs']\n"
     ]
    }
   ],
   "source": [
    "#3\n",
    "times = ['Cowboys', 'Ravens', 'Colts', '49ers', 'Chargers', 'Rams', 'Bills', 'Chiefs', 'Dolphins', 'Raiders']\n",
    "times_C = []\n",
    "for time in times:\n",
    "    if time.startswith('C'):\n",
    "        times_C.append(time)\n",
    "print(times_C)"
   ]
  },
  {
   "cell_type": "code",
   "execution_count": 61,
   "metadata": {},
   "outputs": [
    {
     "data": {
      "text/plain": [
       "['Set']"
      ]
     },
     "execution_count": 61,
     "metadata": {},
     "output_type": "execute_result"
    }
   ],
   "source": [
    "#4\n",
    "palavras = ['Python', 'Code', 'List', 'Set', 'Comprehension']\n",
    "[k for k in palavras if len(k)<4]"
   ]
  },
  {
   "cell_type": "markdown",
   "metadata": {},
   "source": [
    "### Faça seus próprios exemplos para praticar e bons estudos!\n",
    "## Ana Beatriz Macedo\n",
    "![yellow-divider](https://user-images.githubusercontent.com/7065401/52071924-c003ad80-2562-11e9-8297-1c6595f8a7ff.png)"
   ]
  }
 ],
 "metadata": {
  "kernelspec": {
   "display_name": "Python 3",
   "language": "python",
   "name": "python3"
  },
  "language_info": {
   "codemirror_mode": {
    "name": "ipython",
    "version": 3
   },
   "file_extension": ".py",
   "mimetype": "text/x-python",
   "name": "python",
   "nbconvert_exporter": "python",
   "pygments_lexer": "ipython3",
   "version": "3.8.5"
  }
 },
 "nbformat": 4,
 "nbformat_minor": 4
}
