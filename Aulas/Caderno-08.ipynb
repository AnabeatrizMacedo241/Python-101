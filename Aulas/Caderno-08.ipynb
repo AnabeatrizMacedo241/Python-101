{
 "cells": [
  {
   "cell_type": "markdown",
   "metadata": {},
   "source": [
    "# Introdução ao Python - Ana Beatriz Macedo<img src=\"https://octocat-generator-assets.githubusercontent.com/my-octocat-1626096942740.png\" width=\"324\" height=\"324\" align=\"right\">\n",
    "## Link para download: https://github.com/AnabeatrizMacedo241/Python-101\n",
    "## Github: https://github.com/AnabeatrizMacedo241\n",
    "## Linkedin: www.linkedin.com/in/anabeatriz-macedo\n",
    "\n",
    "<img src=\"https://cdn.jsdelivr.net/gh/devicons/devicon/icons/python/python-original.svg\" alt=\"rails\" width='150' height='150' style='max-width: 100%;'></img>\n",
    "![yellow-divider](https://user-images.githubusercontent.com/7065401/52071924-c003ad80-2562-11e9-8297-1c6595f8a7ff.png)"
   ]
  },
  {
   "cell_type": "markdown",
   "metadata": {},
   "source": [
    "## Nessa oitava parte veremos:\n",
    "- Filas\n",
    "- Pilhas"
   ]
  },
  {
   "cell_type": "markdown",
   "metadata": {},
   "source": [
    "### Filas\n",
    "Em uma fila, seja ela do ônibus ou mercado, o primeiro da fila será o primeiro a sair. Faz sentido, não é? O termo de Filas em programação é igual, chamamos de `FIFO`: first in, first out. Ela servirá como uma estrutura de armazenamento de dados temporária."
   ]
  },
  {
   "cell_type": "code",
   "execution_count": 1,
   "metadata": {},
   "outputs": [
    {
     "data": {
      "text/plain": [
       "['Ana', 'Maria', 'Carlos', 'Marcelo']"
      ]
     },
     "execution_count": 1,
     "metadata": {},
     "output_type": "execute_result"
    }
   ],
   "source": [
    "#Um exemplo simples\n",
    "fila = []\n",
    "fila.append('Ana')\n",
    "fila.append('Maria')\n",
    "fila.append('Carlos')\n",
    "fila.append('Marcelo')\n",
    "fila"
   ]
  },
  {
   "cell_type": "code",
   "execution_count": 2,
   "metadata": {},
   "outputs": [
    {
     "name": "stdout",
     "output_type": "stream",
     "text": [
      "['Ana', 'Maria', 'Carlos']\n",
      "['Ana', 'Maria']\n"
     ]
    }
   ],
   "source": [
    "#Como 'Ana' foi a primeira a entrar, ela seria a primeira a sair.\n",
    "fila.pop() #Ana\n",
    "print(fila)\n",
    "fila.pop() #Maria\n",
    "print(fila)"
   ]
  },
  {
   "cell_type": "markdown",
   "metadata": {},
   "source": [
    "Não foi isso que esperavamos... Isso acontece, porque listas não as melhores estruturas para criar Filas. O recomendado seria usar **deques**."
   ]
  },
  {
   "cell_type": "markdown",
   "metadata": {},
   "source": [
    "Suas operações principais são:\n",
    "- `enqueue`: para inserir na fila\n",
    "- `dequeue`: retirar da fila"
   ]
  },
  {
   "cell_type": "code",
   "execution_count": 31,
   "metadata": {},
   "outputs": [],
   "source": [
    "#Exemplo\n",
    "class Fila(object):\n",
    "    def __init__(self):\n",
    "        self.dados = []\n",
    " \n",
    "    def insere(self, elemento):\n",
    "        self.dados.append(elemento)\n",
    " \n",
    "    def retira(self):\n",
    "        return self.dados.pop()\n",
    " \n",
    "    def vazia(self):\n",
    "        return len(self.dados) == 0"
   ]
  },
  {
   "cell_type": "code",
   "execution_count": 21,
   "metadata": {},
   "outputs": [],
   "source": [
    "class FilaDeque:\n",
    "    Capacidade = 25 #Definindo um número exato para armazenamento de dados\n",
    "    def __init__(self):\n",
    "        self.dados = [None] * FilaDeque.Capacidade\n",
    "        self.size = 0\n",
    "        self.front = 0\n",
    "    def __len__(self): #Quantidade de infos\n",
    "        return self.size\n",
    "    \n",
    "    def vazia(self): #Chaca se está vazia\n",
    "        return self.size == 0\n",
    "    \n",
    "    def primeiro(self):\n",
    "        if (self.vazia()): #Retorna o primeiro elemento\n",
    "            raise EmptyQueueException('A Fila está vazia')\n",
    "        return self.dados[self.front]\n",
    "    \n",
    "    def dequeue(self):\n",
    "        if (self.vazia()): #Remove o primeiro elemento\n",
    "            raise EmptyQueueException('A Fila está vazia')\n",
    "        answer = self.dados[self.front]\n",
    "        self.dados[self.front] = None\n",
    "        self.front = (self.front + 1) % len(self.dados)\n",
    "        self.size -= 1\n",
    "        return answer\n",
    "    \n",
    "    def enqueue(self, elemento): #Adiciona elementos\n",
    "        if (self.size == len(self.dados)):\n",
    "            self.resize(2 * len(self.dados))\n",
    "        avail = (self.front + self.size) % len(self.dados)\n",
    "        self.dados[avail] = elemento\n",
    "        self.size += 1\n",
    "        \n",
    "    def __str__(self): #Retorna todos os valores\n",
    "        return str(self.dados)"
   ]
  },
  {
   "cell_type": "code",
   "execution_count": 27,
   "metadata": {},
   "outputs": [
    {
     "name": "stdout",
     "output_type": "stream",
     "text": [
      "10\n",
      "9\n",
      "[None, None, 8, 7, None, None, None, None, None, None, None, None, None, None, None, None, None, None, None, None, None, None, None, None, None]\n"
     ]
    }
   ],
   "source": [
    "Elementos = FilaDeque()\n",
    "Elementos.enqueue(10)\n",
    "Elementos.enqueue(9)\n",
    "Elementos.enqueue(8)\n",
    "print(Elementos.dequeue()) #10 é retirado e depois o 9 (FIFO)\n",
    "print(Elementos.dequeue())\n",
    "Elementos.enqueue(7)\n",
    "print(Elementos) #25 espaços, apenas 8 e 7 restam em suas posições de entrada."
   ]
  },
  {
   "cell_type": "code",
   "execution_count": 28,
   "metadata": {},
   "outputs": [
    {
     "data": {
      "text/plain": [
       "False"
      ]
     },
     "execution_count": 28,
     "metadata": {},
     "output_type": "execute_result"
    }
   ],
   "source": [
    "Elementos.vazia() "
   ]
  },
  {
   "cell_type": "markdown",
   "metadata": {},
   "source": [
    "### Pilhas\n",
    "Um exemplo do cotidiano para explicar **Pilhas** seriam pilhas de papéis, por exemplo. Quando vamos empilhando papéis, o último a ser colocado, será o primeiro a sair por ele estar em cima. Esse termo em programação seria `LIFO`: last in, first out. "
   ]
  },
  {
   "cell_type": "markdown",
   "metadata": {},
   "source": [
    "Suas operações principais são:\n",
    "- `push`: para inserir no topo da pilha\n",
    "- `pop`: retirar do topo\n",
    "- `top`: checar qual o elemento que está no topo"
   ]
  },
  {
   "cell_type": "code",
   "execution_count": 30,
   "metadata": {},
   "outputs": [],
   "source": [
    "#Exemplo\n",
    "class Pilha(object):\n",
    "    def __init__(self):\n",
    "        self.dados = []\n",
    " \n",
    "    def empilha(self, elemento):\n",
    "        self.dados.append(elemento)\n",
    " \n",
    "    def desempilha(self):\n",
    "        if not self.vazia():\n",
    "            return self.dados.pop()\n",
    " \n",
    "    def vazia(self):\n",
    "        return len(self.dados) == 0"
   ]
  },
  {
   "cell_type": "markdown",
   "metadata": {},
   "source": [
    "Onde as pilhas são usadas?\n",
    "Podem ser usadas em gerenciamento de chamadas de função de um programa com a finalidade de manter informações sobre as funções de um programa que estejam ativas, aguardando serem terminadas."
   ]
  },
  {
   "cell_type": "code",
   "execution_count": 13,
   "metadata": {},
   "outputs": [],
   "source": [
    "class Pilha:\n",
    "    def __init__(self):\n",
    "        self.dados = [] #Cria o armazenamento\n",
    "    def vazio(self):\n",
    "        return len(self.dados)==0 #Verifica se está vazio\n",
    "    def push(self, elemento):\n",
    "        self.dados.append(elemento) #Insere novos elementos\n",
    "    def pop(self):\n",
    "        if self.vazio():\n",
    "            raise Emptyexception('Pilha vazia') \n",
    "        return self.dados.pop() #Retira o elemento\n",
    "    def top(self):\n",
    "        if self.vazio():\n",
    "            raise Emptyexception('Pilha vazia')\n",
    "        return self.data[-1] #Retorna o elemento no topo, o último adicionado\n",
    "    def len_ (self):\n",
    "        return len(self.dados)\n",
    "    def __str__(self):\n",
    "        return str(self.dados) #Mostra o que tem dentro da pilha"
   ]
  },
  {
   "cell_type": "code",
   "execution_count": 14,
   "metadata": {},
   "outputs": [
    {
     "name": "stdout",
     "output_type": "stream",
     "text": [
      "[10]\n",
      "[10, 9, 8, 7]\n",
      "[10, 9, 8]\n"
     ]
    }
   ],
   "source": [
    "Dados = Pilha()\n",
    "Dados.push(10)\n",
    "print(Dados)\n",
    "Dados.push(9)\n",
    "Dados.push(8)\n",
    "Dados.push(7)\n",
    "print(Dados)\n",
    "Dados.pop()\n",
    "print(Dados) #Retirou o último(LIFO)"
   ]
  },
  {
   "cell_type": "markdown",
   "metadata": {},
   "source": [
    "### Conclusão: \n",
    "**Filas e Pilhas** são usadas para a implementação de listas como estruturas para armazenamento dos dados."
   ]
  },
  {
   "cell_type": "markdown",
   "metadata": {},
   "source": [
    "### Faça seus próprios exemplos para praticar e bons estudos!\n",
    "## Ana Beatriz Macedo\n",
    "![yellow-divider](https://user-images.githubusercontent.com/7065401/52071924-c003ad80-2562-11e9-8297-1c6595f8a7ff.png)"
   ]
  }
 ],
 "metadata": {
  "kernelspec": {
   "display_name": "Python 3",
   "language": "python",
   "name": "python3"
  },
  "language_info": {
   "codemirror_mode": {
    "name": "ipython",
    "version": 3
   },
   "file_extension": ".py",
   "mimetype": "text/x-python",
   "name": "python",
   "nbconvert_exporter": "python",
   "pygments_lexer": "ipython3",
   "version": "3.8.5"
  }
 },
 "nbformat": 4,
 "nbformat_minor": 4
}
