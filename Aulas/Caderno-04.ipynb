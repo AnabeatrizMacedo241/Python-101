{
 "cells": [
  {
   "cell_type": "markdown",
   "metadata": {},
   "source": [
    "# Introdução ao Python - Ana Beatriz Macedo<img src=\"https://octocat-generator-assets.githubusercontent.com/my-octocat-1626096942740.png\" width=\"324\" height=\"324\" align=\"right\">\n",
    "## Link para download: https://github.com/AnabeatrizMacedo241/Python-101\n",
    "## Github: https://github.com/AnabeatrizMacedo241\n",
    "## Linkedin: https://www.linkedin.com/in/ana-beatriz-oliveira-de-macedo-85b05b215/\n",
    "\n",
    "<img src=\"https://cdn.jsdelivr.net/gh/devicons/devicon/icons/python/python-original.svg\" alt=\"rails\" width='150' height='150' style='max-width: 100%;'></img>"
   ]
  },
  {
   "cell_type": "markdown",
   "metadata": {},
   "source": [
    "## Nessa quarta parte veremos:\n",
    "1. Funções(`def`)\n",
    "2. Lambda"
   ]
  },
  {
   "cell_type": "markdown",
   "metadata": {},
   "source": [
    "### Funções\n",
    "As Funções permitem dividir uma ação em subações com códigos mais complexos, porém de maior facilidade. Elas são escritas dessa forma:\n",
    "```\n",
    "def nome-da-função(parâmetros):\n",
    "  códigos seguintes\n",
    "  return\n",
    "nome-da-função()\n",
    "```\n",
    "O comando `return` serve como `print()`em uma função, mas isso não quer dizer que não podemos usar `ptint()` em funções também"
   ]
  },
  {
   "cell_type": "markdown",
   "metadata": {},
   "source": [
    "Veja um exemplo de um mesmo código, só que em um utilizando `def`"
   ]
  },
  {
   "cell_type": "code",
   "execution_count": 3,
   "metadata": {},
   "outputs": [
    {
     "data": {
      "text/plain": [
       "11"
      ]
     },
     "execution_count": 3,
     "metadata": {},
     "output_type": "execute_result"
    }
   ],
   "source": [
    "a = 5\n",
    "b = 6\n",
    "a+b"
   ]
  },
  {
   "cell_type": "code",
   "execution_count": 2,
   "metadata": {},
   "outputs": [
    {
     "data": {
      "text/plain": [
       "11"
      ]
     },
     "execution_count": 2,
     "metadata": {},
     "output_type": "execute_result"
    }
   ],
   "source": [
    "def somar(x, y):\n",
    "    return x+y\n",
    "somar(5, 6)"
   ]
  },
  {
   "cell_type": "markdown",
   "metadata": {},
   "source": [
    "Nas tarefas anteriores havia um exercício para calcular a média de notas. Agora vamos ver como ficaria esse mesmo exercício usando funções."
   ]
  },
  {
   "cell_type": "code",
   "execution_count": 21,
   "metadata": {},
   "outputs": [
    {
     "name": "stdout",
     "output_type": "stream",
     "text": [
      "Primeira nota: 10\n",
      "Segunda nota: 6\n",
      "Terceira nota: 8\n",
      "A média final foi 8.0\n"
     ]
    }
   ],
   "source": [
    "def media(x, y, z):\n",
    "    return (x+y+z)/3\n",
    "def nota():\n",
    "    x = float(input('Primeira nota: '))\n",
    "    y = float(input('Segunda nota: '))\n",
    "    z = float(input('Terceira nota: '))\n",
    "    print('A média final foi {}'.format(media(x,y,z)))\n",
    "nota()"
   ]
  },
  {
   "cell_type": "markdown",
   "metadata": {},
   "source": [
    "Vamos agora utilizar mais elementos que vimos nas aulas anteriores para o próximo código..."
   ]
  },
  {
   "cell_type": "code",
   "execution_count": 32,
   "metadata": {},
   "outputs": [
    {
     "data": {
      "text/plain": [
       "'Este número é primo'"
      ]
     },
     "execution_count": 32,
     "metadata": {},
     "output_type": "execute_result"
    }
   ],
   "source": [
    "import math #Importando a biblioteca\n",
    "#Vamos executar um código que checará se um número é Primo ou não\n",
    "def numeroPrimo(num):\n",
    "    if num % 2 == 0 and num > 2: \n",
    "        return \"Não é primo\"\n",
    "    for k in range(3, int(math.sqrt(num)) + 1, 2): #sqrt = raíz quadrada de num\n",
    "        if num % k == 0:\n",
    "            return \"Não é primo\"\n",
    "    return \"Este número é primo\"\n",
    "numeroPrimo(11) #Testando se o número é Primo ou não"
   ]
  },
  {
   "cell_type": "markdown",
   "metadata": {},
   "source": [
    "Também é possível utilizar `split()`dentro de uma função. Vamos ver relembrar com usá-la e depois com `def`"
   ]
  },
  {
   "cell_type": "code",
   "execution_count": 34,
   "metadata": {},
   "outputs": [
    {
     "data": {
      "text/plain": [
       "['Mexendo', 'com', 'funções']"
      ]
     },
     "execution_count": 34,
     "metadata": {},
     "output_type": "execute_result"
    }
   ],
   "source": [
    "frase = 'Mexendo com funções'\n",
    "frase.split()"
   ]
  },
  {
   "cell_type": "code",
   "execution_count": 45,
   "metadata": {},
   "outputs": [
    {
     "name": "stdout",
     "output_type": "stream",
     "text": [
      "['Usando', 'split', 'com', 'funções.']\n"
     ]
    }
   ],
   "source": [
    "def split_string(frase):\n",
    "    return frase.split(\" \")\n",
    "string = \"Usando split com funções.\"\n",
    "print(split_string(string))"
   ]
  },
  {
   "cell_type": "markdown",
   "metadata": {},
   "source": [
    "### Lambda\n",
    "Mesma funcionalidade da função, mas reduz a quantidade de linhas de código. Agora vamos ver um exemplo comparando uma função e um `lambda`."
   ]
  },
  {
   "cell_type": "code",
   "execution_count": 46,
   "metadata": {},
   "outputs": [
    {
     "data": {
      "text/plain": [
       "4"
      ]
     },
     "execution_count": 46,
     "metadata": {},
     "output_type": "execute_result"
    }
   ],
   "source": [
    "def quadrado(x):\n",
    "    return x**2\n",
    "quadrado(2)"
   ]
  },
  {
   "cell_type": "code",
   "execution_count": 47,
   "metadata": {},
   "outputs": [
    {
     "data": {
      "text/plain": [
       "4"
      ]
     },
     "execution_count": 47,
     "metadata": {},
     "output_type": "execute_result"
    }
   ],
   "source": [
    "potencia = lambda x: x**2\n",
    "potencia(2)"
   ]
  },
  {
   "cell_type": "code",
   "execution_count": 49,
   "metadata": {},
   "outputs": [
    {
     "data": {
      "text/plain": [
       "4"
      ]
     },
     "execution_count": 49,
     "metadata": {},
     "output_type": "execute_result"
    }
   ],
   "source": [
    "def quadrado(x): return x**2 #Também é possível reduzir as linhas de uma função, mas não servirá para \n",
    "quadrado(2)                  #qualquer código, principalmente os maiores e complexos."
   ]
  },
  {
   "cell_type": "code",
   "execution_count": 50,
   "metadata": {},
   "outputs": [
    {
     "data": {
      "text/plain": [
       "True"
      ]
     },
     "execution_count": 50,
     "metadata": {},
     "output_type": "execute_result"
    }
   ],
   "source": [
    "#Também podem ser usadas como boolean(true or false)\n",
    "Par = lambda x: x%2==0\n",
    "Par(4)"
   ]
  },
  {
   "cell_type": "code",
   "execution_count": 54,
   "metadata": {},
   "outputs": [
    {
     "data": {
      "text/plain": [
       "'lambda'"
      ]
     },
     "execution_count": 54,
     "metadata": {},
     "output_type": "execute_result"
    }
   ],
   "source": [
    "#Agora usando com strings\n",
    "palavra = lambda s: s[11:]\n",
    "palavra('Python com lambda')"
   ]
  },
  {
   "cell_type": "markdown",
   "metadata": {},
   "source": [
    "### Exercícios\n",
    "1. Usando `sqrt` crie um código que calcule a Hipotenusa pedindo os valores dos catetos para o usuário.\n",
    "2. Crie uma função que retorne a sequência de números pares entre 1 a 25.\n",
    "3. Crie uma função que coverta Fahrenheit para Celsius.\n",
    "4. Tente transformar a função do exercíco 3 em lambda\n",
    "5. Crie uma função para calcular a área de um círculo."
   ]
  },
  {
   "cell_type": "markdown",
   "metadata": {},
   "source": [
    "### Faça seus próprios exemplos para praticar e bons estudos!\n",
    "## Ana Beatriz Macedo"
   ]
  }
 ],
 "metadata": {
  "kernelspec": {
   "display_name": "Python 3",
   "language": "python",
   "name": "python3"
  },
  "language_info": {
   "codemirror_mode": {
    "name": "ipython",
    "version": 3
   },
   "file_extension": ".py",
   "mimetype": "text/x-python",
   "name": "python",
   "nbconvert_exporter": "python",
   "pygments_lexer": "ipython3",
   "version": "3.8.5"
  }
 },
 "nbformat": 4,
 "nbformat_minor": 4
}
