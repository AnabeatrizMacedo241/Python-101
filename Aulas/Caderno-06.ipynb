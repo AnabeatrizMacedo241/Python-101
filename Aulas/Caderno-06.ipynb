{
 "cells": [
  {
   "cell_type": "markdown",
   "metadata": {},
   "source": [
    "# Introdução ao Python - Ana Beatriz Macedo<img src=\"https://octocat-generator-assets.githubusercontent.com/my-octocat-1626096942740.png\" width=\"324\" height=\"324\" align=\"right\">\n",
    "## Link para download: https://github.com/AnabeatrizMacedo241/Python-101\n",
    "## Github: https://github.com/AnabeatrizMacedo241\n",
    "## Linkedin: https://www.linkedin.com/in/ana-beatriz-oliveira-de-macedo-85b05b215/\n",
    "\n",
    "<img src=\"https://cdn.jsdelivr.net/gh/devicons/devicon/icons/python/python-original.svg\" alt=\"rails\" width='150' height='150' style='max-width: 100%;'></img>\n",
    "![yellow-divider](https://user-images.githubusercontent.com/7065401/52071924-c003ad80-2562-11e9-8297-1c6595f8a7ff.png)"
   ]
  },
  {
   "cell_type": "markdown",
   "metadata": {},
   "source": [
    "## Nessa sexta parte veremos:\n",
    "1. Programação orientada a objetos(POO)\n",
    "    1. Classes\n",
    "    2. Objetos\n",
    "    3. Métodos\n",
    "    4. Herança"
   ]
  },
  {
   "cell_type": "markdown",
   "metadata": {},
   "source": [
    "## Classes: `class`\n",
    "![yellow-divider](https://user-images.githubusercontent.com/7065401/52071924-c003ad80-2562-11e9-8297-1c6595f8a7ff.png)\n",
    "\n",
    "A classe seria a função que constrói um objeto. Com os próximos exemplos entenderemos sua funcionalidade e como usá-la. Métodos são funções que tem como parâmetro atributos do objeto criado"
   ]
  },
  {
   "cell_type": "code",
   "execution_count": 16,
   "metadata": {},
   "outputs": [],
   "source": [
    "class identidade():#Criando a classe\n",
    "    def __init__(self, nome, idade):#__init__serve para inicializar a classe e self se refere aos atributos do objeto\n",
    "        self.nome = nome\n",
    "        self.idade = idade\n",
    "        print(\"Criando um objeto nessa classe\")\n",
    "        \n",
    "    def imprime(self, nome, idade):\n",
    "        print(\"Esta é o(a) %s e sua idade é %d\" %(nome, idade))"
   ]
  },
  {
   "cell_type": "code",
   "execution_count": 20,
   "metadata": {},
   "outputs": [
    {
     "name": "stdout",
     "output_type": "stream",
     "text": [
      "Criando um objeto nessa classe\n"
     ]
    }
   ],
   "source": [
    "id1 = identidade(\"Mônica\", 50)"
   ]
  },
  {
   "cell_type": "code",
   "execution_count": 19,
   "metadata": {},
   "outputs": [
    {
     "data": {
      "text/plain": [
       "'Mônica'"
      ]
     },
     "execution_count": 19,
     "metadata": {},
     "output_type": "execute_result"
    }
   ],
   "source": [
    "id1.nome #Retorna o nome registrado(atributo)"
   ]
  },
  {
   "cell_type": "code",
   "execution_count": 18,
   "metadata": {},
   "outputs": [
    {
     "name": "stdout",
     "output_type": "stream",
     "text": [
      "Esta é o(a) Mônica e sua idade é: 50\n"
     ]
    }
   ],
   "source": [
    "# Método do objeto id1\n",
    "id1.imprime(\"Mônica\", 50)"
   ]
  },
  {
   "cell_type": "code",
   "execution_count": 32,
   "metadata": {},
   "outputs": [],
   "source": [
    "class automóvel:\n",
    "    def __init__(self, tipo, marca, preco):\n",
    "        self.tipo = tipo\n",
    "        self.marca = marca\n",
    "        self.preco = preco\n",
    "\n",
    "    def listFunc(self):\n",
    "        print(\"O tipo de automóvel é \" + self.tipo + \", sua marca é e \" + self.marca + ' e custa ' +str(self.preco))"
   ]
  },
  {
   "cell_type": "code",
   "execution_count": 33,
   "metadata": {},
   "outputs": [
    {
     "name": "stdout",
     "output_type": "stream",
     "text": [
      "O tipo de automóvel é Carro, sua marca é e Ferrari e custa 1000000\n"
     ]
    }
   ],
   "source": [
    "auto1 = automóvel('Carro', 'Ferrari', 1000000)\n",
    "auto1.listFunc()"
   ]
  },
  {
   "cell_type": "code",
   "execution_count": 34,
   "metadata": {},
   "outputs": [
    {
     "name": "stdout",
     "output_type": "stream",
     "text": [
      "O tipo de automóvel é Moto, sua marca é e Yamaha e custa 2500\n"
     ]
    }
   ],
   "source": [
    "auto2 = automóvel('Moto', 'Yamaha', 2500)\n",
    "auto2.listFunc()"
   ]
  },
  {
   "cell_type": "markdown",
   "metadata": {},
   "source": [
    "### Alguns atributos:\n",
    "1. `hasattr(listFunc, 'marca')`-> True   Tem esse atributo?\n",
    "2. `delattr(Func1, 'marca')`             Deleta o atributo\n",
    "3. `setattr(Func1, \"preco\", 96000)`      Define\n",
    "4. `getattr(Func1, \"marca\")` -> Ferrari  Retorna o atributo"
   ]
  },
  {
   "cell_type": "code",
   "execution_count": 35,
   "metadata": {},
   "outputs": [],
   "source": [
    "class Circulo():\n",
    "    pi = 3.14\n",
    "    def __init__(self, raio):\n",
    "        self.raio = raio \n",
    "    # Esse método calcula a área. Self utiliza os atributos deste mesmo objeto\n",
    "    def area(self):\n",
    "        return (self.raio * self.raio) * Circulo.pi\n",
    "    # Método para gerar um novo raio\n",
    "    def setRaio(self, novo_raio):\n",
    "        self.raio = novo_raio\n",
    "    # Método para obter o raio do círculo\n",
    "    def getRaio(self):\n",
    "        return self.raio"
   ]
  },
  {
   "cell_type": "code",
   "execution_count": 37,
   "metadata": {},
   "outputs": [
    {
     "data": {
      "text/plain": [
       "1"
      ]
     },
     "execution_count": 37,
     "metadata": {},
     "output_type": "execute_result"
    }
   ],
   "source": [
    "circulo = Circulo(1)\n",
    "circulo.getRaio()"
   ]
  },
  {
   "cell_type": "code",
   "execution_count": 40,
   "metadata": {},
   "outputs": [
    {
     "name": "stdout",
     "output_type": "stream",
     "text": [
      "O raio é:  1\n",
      "A área é:  3.14\n"
     ]
    }
   ],
   "source": [
    "print ('O raio é: ', circulo.getRaio())\n",
    "print('A área é: ', circulo.area())"
   ]
  },
  {
   "cell_type": "markdown",
   "metadata": {},
   "source": [
    "### Herança\n",
    "![yellow-divider](https://user-images.githubusercontent.com/7065401/52071924-c003ad80-2562-11e9-8297-1c6595f8a7ff.png)\n",
    "\n",
    "Nos permite definir uma class que herda all todos os métodos de uma outra classe."
   ]
  },
  {
   "cell_type": "code",
   "execution_count": 46,
   "metadata": {},
   "outputs": [],
   "source": [
    "class Animal():\n",
    "    \n",
    "    def __init__(self):\n",
    "        print(\"Animal criado\")\n",
    "\n",
    "    def Identif(self):\n",
    "        print(\"Animal\")\n",
    "\n",
    "    def comer(self):\n",
    "        print(\"Comendo\")\n",
    "\n",
    "class gato(Animal):\n",
    "    \n",
    "    def __init__(self):\n",
    "        Animal.__init__(self)\n",
    "        print(\"Gato criado\")\n",
    "\n",
    "    def Identif(self):\n",
    "        print(\"Gato\")\n",
    "\n",
    "    def miar(self):\n",
    "        print(\"Miau\")"
   ]
  },
  {
   "cell_type": "code",
   "execution_count": 42,
   "metadata": {},
   "outputs": [
    {
     "name": "stdout",
     "output_type": "stream",
     "text": [
      "Animal criado\n",
      "Gato criado\n"
     ]
    }
   ],
   "source": [
    "Fred = gato()"
   ]
  },
  {
   "cell_type": "code",
   "execution_count": 43,
   "metadata": {},
   "outputs": [
    {
     "name": "stdout",
     "output_type": "stream",
     "text": [
      "Animal criado\n"
     ]
    }
   ],
   "source": [
    "Macaco = Animal()"
   ]
  },
  {
   "cell_type": "code",
   "execution_count": 44,
   "metadata": {},
   "outputs": [
    {
     "name": "stdout",
     "output_type": "stream",
     "text": [
      "Miau\n"
     ]
    }
   ],
   "source": [
    "Fred.miar()"
   ]
  },
  {
   "cell_type": "code",
   "execution_count": 45,
   "metadata": {},
   "outputs": [
    {
     "name": "stdout",
     "output_type": "stream",
     "text": [
      "Animal\n"
     ]
    }
   ],
   "source": [
    "Macaco.Identif()"
   ]
  },
  {
   "cell_type": "markdown",
   "metadata": {},
   "source": [
    "### Exercícios:\n",
    "1. Crie uma classe chamada User() com os atributos: nome, telefone, idade e país e faça uma chamada.\n",
    "2. Crie a classe Videogame com 2 atributos, gigas e marca e crie a classe PS4(Deve herdar os atributos da primeira classe)com o atributo valor.\n",
    "3. Crie uma classe temperatura() que faça a conversão de Celsius para Kelvin.\n",
    "4. Crie uma classe Nacionalidade() com os atributos: país e cidade e faça sua chamada."
   ]
  },
  {
   "cell_type": "markdown",
   "metadata": {},
   "source": [
    "### Faça seus próprios exemplos para praticar e bons estudos!\n",
    "## Ana Beatriz Macedo\n",
    "![yellow-divider](https://user-images.githubusercontent.com/7065401/52071924-c003ad80-2562-11e9-8297-1c6595f8a7ff.png)"
   ]
  }
 ],
 "metadata": {
  "kernelspec": {
   "display_name": "Python 3",
   "language": "python",
   "name": "python3"
  },
  "language_info": {
   "codemirror_mode": {
    "name": "ipython",
    "version": 3
   },
   "file_extension": ".py",
   "mimetype": "text/x-python",
   "name": "python",
   "nbconvert_exporter": "python",
   "pygments_lexer": "ipython3",
   "version": "3.8.5"
  }
 },
 "nbformat": 4,
 "nbformat_minor": 4
}
