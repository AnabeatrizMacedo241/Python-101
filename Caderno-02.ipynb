{
 "cells": [
  {
   "cell_type": "markdown",
   "metadata": {},
   "source": [
    "# Introdução ao Python - Ana Beatriz Macedo<img src=\"https://octocat-generator-assets.githubusercontent.com/my-octocat-1626096942740.png\" width=\"324\" height=\"324\" align=\"right\">\n",
    "## Link para download: https://github.com/AnabeatrizMacedo241/Python-101\n",
    "## Github: https://github.com/AnabeatrizMacedo241\n",
    "## Linkedin: https://www.linkedin.com/in/ana-beatriz-oliveira-de-macedo-85b05b215/\n",
    "\n",
    "<img src=\"https://cdn.jsdelivr.net/gh/devicons/devicon/icons/python/python-original.svg\" alt=\"rails\" width='150' height='150' style='max-width: 100%;'></img>"
   ]
  },
  {
   "cell_type": "markdown",
   "metadata": {},
   "source": [
    "## Nessa segunda parte veremos:\n",
    "1. if/else/elif\n",
    "2. for\n",
    "3. while"
   ]
  },
  {
   "cell_type": "markdown",
   "metadata": {},
   "source": [
    "if/else e elif são estruturas de condição dentro de um código. Vamos entender melhor com os póximos exemplos."
   ]
  },
  {
   "cell_type": "code",
   "execution_count": 2,
   "metadata": {},
   "outputs": [
    {
     "name": "stdout",
     "output_type": "stream",
     "text": [
      "O ano 2020 é maior\n"
     ]
    }
   ],
   "source": [
    "if 2020 > 2000: \n",
    "    print(\"O ano 2020 é maior\")"
   ]
  },
  {
   "cell_type": "markdown",
   "metadata": {},
   "source": [
    "Os espaços são fundamentais para a execução de um código, um espaço errado e o código retornará um erro de identação."
   ]
  },
  {
   "cell_type": "code",
   "execution_count": 4,
   "metadata": {},
   "outputs": [
    {
     "name": "stdout",
     "output_type": "stream",
     "text": [
      "Erro de lógica\n"
     ]
    }
   ],
   "source": [
    "if 2020 < 2000: #Se atente aos espaços nesse código. Sempre após \":\" haverá uma identação na linha seguinte\n",
    "   print(\"O ano 2020 é maior\")\n",
    "else:\n",
    "   print(\"Erro de lógica\")"
   ]
  },
  {
   "cell_type": "markdown",
   "metadata": {},
   "source": [
    "Veja como a identação faz diferença a seguir usando o código acima"
   ]
  },
  {
   "cell_type": "code",
   "execution_count": 7,
   "metadata": {},
   "outputs": [
    {
     "ename": "IndentationError",
     "evalue": "expected an indented block (<ipython-input-7-cb171bdd18b3>, line 2)",
     "output_type": "error",
     "traceback": [
      "\u001b[0;36m  File \u001b[0;32m\"<ipython-input-7-cb171bdd18b3>\"\u001b[0;36m, line \u001b[0;32m2\u001b[0m\n\u001b[0;31m    print(\"O ano 2020 é maior\")\u001b[0m\n\u001b[0m    ^\u001b[0m\n\u001b[0;31mIndentationError\u001b[0m\u001b[0;31m:\u001b[0m expected an indented block\n"
     ]
    }
   ],
   "source": [
    "if 2020 < 2000: \n",
    "print(\"O ano 2020 é maior\")\n",
    "else:\n",
    "print(\"Erro de lógica\")"
   ]
  },
  {
   "cell_type": "code",
   "execution_count": 6,
   "metadata": {},
   "outputs": [
    {
     "name": "stdout",
     "output_type": "stream",
     "text": [
      "São iguais\n"
     ]
    }
   ],
   "source": [
    "if 2020==2020:\n",
    "    print('São iguais')\n",
    "else:\n",
    "    print('Os números são diferentes')"
   ]
  },
  {
   "cell_type": "code",
   "execution_count": 8,
   "metadata": {},
   "outputs": [
    {
     "name": "stdout",
     "output_type": "stream",
     "text": [
      "O ano é 2020 e estamos aprendendo Python\n"
     ]
    }
   ],
   "source": [
    "ano = 2020\n",
    "Nome = \"Python\"\n",
    "if ano >= 2020 and Nome == \"Python\":\n",
    "    print(\"O ano é 2020 e estamos aprendendo Python\")"
   ]
  },
  {
   "cell_type": "code",
   "execution_count": 11,
   "metadata": {},
   "outputs": [
    {
     "name": "stdout",
     "output_type": "stream",
     "text": [
      "Pelo menos um dos atributos atende o código\n"
     ]
    }
   ],
   "source": [
    "ano = 2020\n",
    "Nome = \"Python\"\n",
    "if (ano <= 2000) or (Nome == \"Python\"):\n",
    "    print(\"Pelo menos um dos atributos atende o código\")"
   ]
  },
  {
   "cell_type": "markdown",
   "metadata": {},
   "source": [
    "Mas e o 'elif'? Bom, o elif devemos usar se não quisermos usar mais de uma estrutura if em um código, mas queremos criar uma nova condição. Observe o código abaixo:"
   ]
  },
  {
   "cell_type": "code",
   "execution_count": 19,
   "metadata": {},
   "outputs": [
    {
     "name": "stdout",
     "output_type": "stream",
     "text": [
      "Ano sem descrição\n"
     ]
    }
   ],
   "source": [
    "ano = 0\n",
    "if ano == 2020 :\n",
    "  print(\"Ano de querentena\")\n",
    "elif ano == 2019:\n",
    "  print(\"Ano pré pandemia\")\n",
    "else:\n",
    "  print(\"Ano sem descrição\")"
   ]
  },
  {
   "cell_type": "markdown",
   "metadata": {},
   "source": [
    "Agora vamos entender a ferramenta 'input'. Ela serve para o usuário inserir uma informação que o código irá solicitar. Vamos entender como devemos criá-lo com exemplos... \n",
    "\n",
    "O format é uma ferramenta para retornar um valor determinado por uma variável, e devemos chamá-la do jeito abaixo, com {} e .format"
   ]
  },
  {
   "cell_type": "code",
   "execution_count": 24,
   "metadata": {},
   "outputs": [
    {
     "name": "stdout",
     "output_type": "stream",
     "text": [
      "Qual ano estamos?2021\n",
      "Em que ano você nasceu?2003\n",
      "Você nasceu em 2003 e tem 18 anos em 2021\n"
     ]
    }
   ],
   "source": [
    "ano = int(input('Qual ano estamos?'))\n",
    "ano_nascimento = int(input('Em que ano você nasceu?'))\n",
    "idade = ano - ano_nascimento\n",
    "print('Você nasceu em {} e tem {} anos em {}'.format(ano_nascimento, idade, ano))\n"
   ]
  },
  {
   "cell_type": "code",
   "execution_count": 25,
   "metadata": {},
   "outputs": [
    {
     "name": "stdout",
     "output_type": "stream",
     "text": [
      "Qual sua idade?25\n",
      "Pode tomar vacina contra o coronavírus\n"
     ]
    }
   ],
   "source": [
    "idade = int(input('Qual sua idade?'))\n",
    "if idade >= 18:\n",
    "    print('Pode tomar vacina contra o coronavírus')\n",
    "else:\n",
    "    print('Sua hora vai chegar')"
   ]
  },
  {
   "cell_type": "markdown",
   "metadata": {},
   "source": [
    "### For"
   ]
  },
  {
   "cell_type": "markdown",
   "metadata": {},
   "source": [
    "For é uma das estruturas de repetições em Python. Vamos ver exemplos a seguir para entendermos melhor essa ferramenta."
   ]
  },
  {
   "cell_type": "code",
   "execution_count": 26,
   "metadata": {},
   "outputs": [
    {
     "name": "stdout",
     "output_type": "stream",
     "text": [
      "0\n",
      "1\n",
      "2\n",
      "3\n",
      "4\n",
      "5\n",
      "6\n",
      "7\n",
      "8\n",
      "9\n",
      "10\n"
     ]
    }
   ],
   "source": [
    "for k in range(0, 11):"
   ]
  },
  {
   "cell_type": "markdown",
   "metadata": {},
   "source": [
    "O que aconteceu? Ele retornou todos os números de 1 a 10. Sendo que a contagem em python começa no número 0 e não no número 1 como estamos acostumados no dia a dia!"
   ]
  },
  {
   "cell_type": "code",
   "execution_count": 28,
   "metadata": {},
   "outputs": [
    {
     "name": "stdout",
     "output_type": "stream",
     "text": [
      "Olá mundo\n",
      "Olá mundo\n",
      "Olá mundo\n"
     ]
    }
   ],
   "source": [
    "for k in range(3): #Aqui ele repetirá a string três vezes\n",
    "    print('Olá mundo')"
   ]
  },
  {
   "cell_type": "code",
   "execution_count": 34,
   "metadata": {},
   "outputs": [
    {
     "name": "stdout",
     "output_type": "stream",
     "text": [
      "0\n",
      "2\n",
      "4\n",
      "6\n",
      "8\n",
      "10\n"
     ]
    }
   ],
   "source": [
    "for k in range(0, 11, 2): #O número retornado será de dois a dois\n",
    "    print(k)"
   ]
  },
  {
   "cell_type": "code",
   "execution_count": 35,
   "metadata": {},
   "outputs": [
    {
     "name": "stdout",
     "output_type": "stream",
     "text": [
      "P\n",
      "y\n",
      "t\n",
      "h\n",
      "o\n",
      "n\n"
     ]
    }
   ],
   "source": [
    "for caracter in 'Python': #Funciona com strings também\n",
    "    print(caracter)"
   ]
  },
  {
   "cell_type": "code",
   "execution_count": 41,
   "metadata": {},
   "outputs": [
    {
     "name": "stdout",
     "output_type": "stream",
     "text": [
      "0 0\n",
      "1 1\n",
      "2 4\n",
      "3 9\n",
      "4 16\n",
      "5 25\n",
      "6 36\n",
      "7 49\n",
      "8 64\n",
      "9 81\n",
      "10 100\n"
     ]
    }
   ],
   "source": [
    "for k in range(11): #Aqui estamos retornando até 10 seus valores ao quadrado e seu índice\n",
    "    print(k, k**2)"
   ]
  },
  {
   "cell_type": "markdown",
   "metadata": {},
   "source": [
    "Em Python existem diveram bibliotecas para facilitar a criação de um código, basta entrar em sua documentação para descobrir. Nos próximos códigos estarei usando a biblioteca 'math'"
   ]
  },
  {
   "cell_type": "code",
   "execution_count": 42,
   "metadata": {},
   "outputs": [],
   "source": [
    "import math"
   ]
  },
  {
   "cell_type": "code",
   "execution_count": 51,
   "metadata": {},
   "outputs": [
    {
     "name": "stdout",
     "output_type": "stream",
     "text": [
      "1 0.0\n",
      "3 1.0986122886681098\n",
      "5 1.6094379124341003\n",
      "7 1.9459101490553132\n",
      "9 2.1972245773362196\n"
     ]
    }
   ],
   "source": [
    "from math import log #Aqui ele retorna o logaritmo de 1 a 10 inde de dois a dois\n",
    "for k in range(1, 11, 2):\n",
    "    print(k, log(k))"
   ]
  },
  {
   "cell_type": "code",
   "execution_count": 55,
   "metadata": {},
   "outputs": [
    {
     "name": "stdout",
     "output_type": "stream",
     "text": [
      "Raio: 0 Área: 0.0\n",
      "Raio: 1 Área: 3.141592653589793\n",
      "Raio: 2 Área: 12.566370614359172\n",
      "Raio: 3 Área: 28.274333882308138\n",
      "Raio: 4 Área: 50.26548245743669\n",
      "Raio: 5 Área: 78.53981633974483\n",
      "Raio: 6 Área: 113.09733552923255\n",
      "Raio: 7 Área: 153.93804002589985\n",
      "Raio: 8 Área: 201.06192982974676\n",
      "Raio: 9 Área: 254.46900494077323\n"
     ]
    }
   ],
   "source": [
    "from math import pi #Que tal descobrir a área utilizando a função pi?\n",
    "for k in range(10):\n",
    "    print('Raio: {} Área: {}'.format(k,pi * k**2))"
   ]
  },
  {
   "cell_type": "code",
   "execution_count": 58,
   "metadata": {},
   "outputs": [
    {
     "name": "stdout",
     "output_type": "stream",
     "text": [
      "Número para calcular o fatorial:4\n",
      "O fatorial de 4 é 24\n"
     ]
    }
   ],
   "source": [
    "fatorial = 1\n",
    "número = int(input('Número para calcular o fatorial:'))\n",
    "for k in range(1, número+1):\n",
    "    fatorial = k*fatorial\n",
    "print('O fatorial de {} é {}'.format(número, fatorial))"
   ]
  },
  {
   "cell_type": "markdown",
   "metadata": {},
   "source": [
    "### While"
   ]
  },
  {
   "cell_type": "markdown",
   "metadata": {},
   "source": [
    "While é uma outra estrutura de repetição dentro da linguagem Python. Ele realizará uma função ENQUANTO algo que determinamos não ter sido atingido. É importante prestar atenção para não criar um código infinito."
   ]
  },
  {
   "cell_type": "code",
   "execution_count": 61,
   "metadata": {},
   "outputs": [
    {
     "name": "stdout",
     "output_type": "stream",
     "text": [
      "Usando while\n",
      "Usando while\n",
      "Usando while\n",
      "Usando while\n",
      "Usando while\n",
      "Usando while\n",
      "Usando while\n",
      "Usando while\n",
      "Usando while\n",
      "Usando while\n"
     ]
    }
   ],
   "source": [
    "n = 0 \n",
    "while (n<10):\n",
    "    print('Usando while')\n",
    "    n += 1"
   ]
  },
  {
   "cell_type": "code",
   "execution_count": null,
   "metadata": {},
   "outputs": [],
   "source": [
    "n = 0 #Teste em seu computador esse código para ver que ele se tornará infinito ao não utilizar a última linha\n",
    "while (n<10):\n",
    "    print('Usando while')\n",
    "    #n += 1"
   ]
  },
  {
   "cell_type": "code",
   "execution_count": 72,
   "metadata": {},
   "outputs": [
    {
     "name": "stdout",
     "output_type": "stream",
     "text": [
      "No momento o valor de n é:  0\n",
      "No momento o valor de n é:  1\n",
      "No momento o valor de n é:  2\n",
      "No momento o valor de n é:  3\n",
      "No momento o valor de n é:  4\n",
      "No momento o valor de n é:  5\n",
      "No momento o valor de n é:  6\n",
      "No momento o valor de n é:  7\n",
      "No momento o valor de n é:  8\n",
      "No momento o valor de n é:  9\n",
      "No momento o valor de n é:  10\n",
      "Loop concluído, porque chegamos em 10!\n"
     ]
    }
   ],
   "source": [
    "n = 0\n",
    "while n < 11:\n",
    "    print ('No momento o valor de n é: ', n)\n",
    "    n += 1    \n",
    "else:\n",
    "    print ('Loop concluído, porque chegamos em 10!')"
   ]
  },
  {
   "cell_type": "markdown",
   "metadata": {},
   "source": [
    "#### Vamos usar agora tudo o que aprendemos nessa segunda parte!"
   ]
  },
  {
   "cell_type": "code",
   "execution_count": 71,
   "metadata": {},
   "outputs": [
    {
     "name": "stdout",
     "output_type": "stream",
     "text": [
      "0 é um número primo\n",
      "1 é um número primo\n",
      "2 é um número primo\n",
      "3 é um número primo\n",
      "5 é um número primo\n",
      "7 é um número primo\n",
      "11 é um número primo\n"
     ]
    }
   ],
   "source": [
    "for k in range(0,12):\n",
    "    n =2\n",
    "    counter = 0\n",
    "    while n < k:\n",
    "        if k % n == 0: #Aqui verificams se o resto da divisão é igual a 0\n",
    "            counter = 1\n",
    "            n += 1\n",
    "        else:\n",
    "            n += 1\n",
    "    \n",
    "    if counter == 0:\n",
    "        print(str(k) + \" é um número primo\")\n",
    "        counter = 0\n",
    "    else:\n",
    "        counter = 0"
   ]
  },
  {
   "cell_type": "markdown",
   "metadata": {},
   "source": [
    "### Exercícios\n",
    "1. Utilizando as estruturas de condições, descubra se um número é Par ou Ímpar após perguntar um número ao usuário\n",
    "2. Crie um código para contar a quantidade de números pares entre 2 e 99. Resposta: 49.\n",
    "3. Crie um código que mostre a tabuada de 1 a 10 com o laço while e o for\n",
    "4. Crie um código que pergunte duas notas ao um usuário e diga se ele foi aprovado ou não de acordo com sua média."
   ]
  },
  {
   "cell_type": "markdown",
   "metadata": {},
   "source": [
    "### Faça seus próprios exemplos para praticar e bons estudos!\n",
    "## Ana Beatriz Macedo"
   ]
  }
 ],
 "metadata": {
  "kernelspec": {
   "display_name": "Python 3",
   "language": "python",
   "name": "python3"
  },
  "language_info": {
   "codemirror_mode": {
    "name": "ipython",
    "version": 3
   },
   "file_extension": ".py",
   "mimetype": "text/x-python",
   "name": "python",
   "nbconvert_exporter": "python",
   "pygments_lexer": "ipython3",
   "version": "3.8.5"
  }
 },
 "nbformat": 4,
 "nbformat_minor": 4
}
